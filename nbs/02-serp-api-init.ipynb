{
 "cells": [
  {
   "cell_type": "code",
   "execution_count": null,
   "metadata": {},
   "outputs": [],
   "source": [
    "import os\n",
    "import io\n",
    "import contextlib\n",
    "from dotenv import load_dotenv\n",
    "load_dotenv()"
   ]
  },
  {
   "cell_type": "code",
   "execution_count": null,
   "metadata": {},
   "outputs": [],
   "source": [
    "BRIGHT_DATA_API_KEY=os.getenv(\"BRIGHT_DATA_API_KEY\")\n",
    "BRIGHTDATA_ZONE=os.getenv(\"BRIGHTDATA_ZONE\")\n",
    "\n",
    "assert BRIGHT_DATA_API_KEY is not None\n",
    "assert BRIGHTDATA_ZONE is not None"
   ]
  },
  {
   "cell_type": "code",
   "execution_count": null,
   "metadata": {},
   "outputs": [],
   "source": [
    "from langchain_brightdata import BrightDataSERP\n",
    "\n",
    "serp_tool = BrightDataSERP(\n",
    "    bright_data_api_key=BRIGHT_DATA_API_KEY,\n",
    "    zone =BRIGHTDATA_ZONE,\n",
    "    search_engine = \"google\",\n",
    "    country=\"in\",\n",
    "    language=\"en\",\n",
    "    parse_results = True\n",
    "    )"
   ]
  },
  {
   "cell_type": "code",
   "execution_count": null,
   "metadata": {},
   "outputs": [],
   "source": [
    "buf = io.StringIO()\n",
    "\n",
    "with contextlib.redirect_stdout(buf):\n",
    "    result_data = serp_tool.invoke(\"reddit.com Python\")"
   ]
  },
  {
   "cell_type": "markdown",
   "metadata": {},
   "source": [
    "beautifulsoup ->  parse data"
   ]
  },
  {
   "cell_type": "code",
   "execution_count": null,
   "metadata": {},
   "outputs": [],
   "source": [
    "import json\n",
    "data = json.loads(result_data)\n",
    "data.keys()"
   ]
  },
  {
   "cell_type": "code",
   "execution_count": null,
   "metadata": {},
   "outputs": [],
   "source": [
    "for result in data.get('organic'):\n",
    "    # print(result.keys())\n",
    "    print(result.get('title'),result.get('link'),result.get('display_link'))\n",
    "    print(\"--\"*12)"
   ]
  },
  {
   "cell_type": "code",
   "execution_count": null,
   "metadata": {},
   "outputs": [],
   "source": []
  }
 ],
 "metadata": {
  "kernelspec": {
   "display_name": "Python 3 (ipykernel)",
   "language": "python",
   "name": "python3"
  },
  "language_info": {
   "codemirror_mode": {
    "name": "ipython",
    "version": 3
   },
   "file_extension": ".py",
   "mimetype": "text/x-python",
   "name": "python",
   "nbconvert_exporter": "python",
   "pygments_lexer": "ipython3",
   "version": "3.13.4"
  }
 },
 "nbformat": 4,
 "nbformat_minor": 4
}
